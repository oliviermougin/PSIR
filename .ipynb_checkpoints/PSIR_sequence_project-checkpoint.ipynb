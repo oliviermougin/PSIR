{
 "cells": [
  {
   "cell_type": "markdown",
   "metadata": {},
   "source": [
    "## T1 simulation of the UK7T PSIR/MP2RAGE acquisition\n",
    "\n",
    "The following notebook is designed to simulate the longitudinal magnetisation evolution during the PSIR/MP2RAGE acquisition. It loads the parameters for the UK7T parameters and simulate the signal across the whole Shot-to-Shot acquisition time. The timing is defined as in this paper (https://onlinelibrary.wiley.com/doi/full/10.1002/mrm.26061)\n"
   ]
  },
  {
   "cell_type": "code",
   "execution_count": 1,
   "metadata": {},
   "outputs": [],
   "source": [
    "import os,sys,inspect\n",
    "import numpy as np\n",
    "import matplotlib.pyplot as plt\n",
    "import subprocess\n",
    "\n",
    "## for debugging:\n",
    "import time\n"
   ]
  },
  {
   "cell_type": "code",
   "execution_count": 2,
   "metadata": {},
   "outputs": [],
   "source": [
    "## Tissue parameters:\n",
    "\n",
    "# parameters for the simulation of the signal\n",
    "T1tmp = 850 #ms\n",
    "B1tmp = 100 #%"
   ]
  },
  {
   "cell_type": "code",
   "execution_count": 28,
   "metadata": {},
   "outputs": [
    {
     "name": "stdout",
     "output_type": "stream",
     "text": [
      "0.0014529524435441948\n",
      "0.03267582902463351\n",
      "0.002737645851655357\n",
      "0.03281913754542718\n",
      "0.002729936194550767\n",
      "0.03281827752734932\n",
      "0.002729982461475138\n",
      "0.03281828268845971\n",
      "0.0027299821838195825\n",
      "0.03281828265748701\n"
     ]
    },
    {
     "data": {
      "image/png": "[encoded data removed]",
      "text/plain": [
       "<Figure size 576x360 with 1 Axes>"
      ]
     },
     "metadata": {
      "needs_background": "light"
     },
     "output_type": "display_data"
    },
    {
     "data": {
      "image/png": "[encoded data removed]",
      "text/plain": [
       "<Figure size 576x360 with 1 Axes>"
      ]
     },
     "metadata": {
      "needs_background": "light"
     },
     "output_type": "display_data"
    }
   ],
   "source": [
    "# Scanning parameters from the UK7T protocol:\n",
    "SSi=3500 # TR between inversions\n",
    "TR=5.8 # Echo spacing during the shot\n",
    "TFE=160 # Number of shot per inversion (need to be even)\n",
    "FAt1=5 # First flip angle\n",
    "FAt2=4 # Second flip angle\n",
    "TI1min=np.ceil(TR*TFE/2+10) # Minimum TI for the first shot: need to compute\n",
    "TI1_=550;# First Inversion Time\n",
    "TIbis2=236; # Minimum TI for the second shot\n",
    "TIbis=TI1_ + np.ceil(TFE/2*TR)+TIbis2; # timing for the middle of the sequence\n",
    "TFE_bis=TFE/2\n",
    "\n",
    "# Time sampling in 10th of ms\n",
    "SSi10=SSi*10\n",
    "T = np.arange(SSi10) # time variable\n",
    "T0 = np.array(T)/10. # initial time variable\n",
    "TR10=int(10*TR)\n",
    "TR9=TR10-1 #TR minus one time tick...\n",
    "TIbis10=int(TIbis*10)  # TIbisi\n",
    "TI1_10=int(TI1_*10) # TI1a and TI1i\n",
    "TI4_10=int(TIbis10+TI1_10) # TI4i\n",
    "\n",
    "TI0_10=int(TI1_10-np.ceil(TFE_bis*TR10))\n",
    "TI2_10=int(TI1_10+np.ceil(TFE_bis*TR10))\n",
    "TI3_10=int(TI4_10-np.ceil(TFE_bis*TR10))\n",
    "TI5_10=int(TI4_10+np.ceil(TFE_bis*TR10))       \n",
    "\n",
    "if TI0_10<0:\n",
    "    os.error('Error, wrong timing: please readjust sequence timing!')\n",
    "\n",
    "# Create RF timing vector:\n",
    "RF=np.zeros_like(T,dtype=bool)\n",
    "for i in range(TI0_10,TI2_10,1):\n",
    "    if not np.mod(i-TI0_10,TR10):       \n",
    "        RF[i]=True \n",
    "for i in range(TI3_10,TI5_10,1):\n",
    "    if not np.mod(i-TI3_10,TR10):       \n",
    "        RF[i]=True \n",
    "\n",
    "        \n",
    "plt.rcParams['figure.figsize'] = [8, 5]\n",
    "fig1, (ax1) = plt.subplots()\n",
    "ax1.plot(T0[0:SSi10:10],RF[0:SSi10:10])\n",
    "ax1.set_title('RF plot')\n",
    "ax1.set_xlabel('Time (ms)')\n",
    "ax1.set_xlim(0,SSi)\n",
    "ax1.set_ylabel('RF on')\n",
    "\n",
    "Mwm=0.71 # Proton density between WM and GM: no effect on the LUT\n",
    "Mgm=0.8\n",
    "\n",
    "FB=180 # Flip angle for the inversion\n",
    "eff=0.95 # Efficiency of the adiabatic pulse\n",
    "cosFB=np.cos(np.deg2rad(eff*FB))\n",
    "\n",
    "expmT1=np.exp(-0.1/T1tmp)\n",
    "expTRT1=np.exp(-(TR-0.1)/T1tmp)\n",
    "Mwm0=Mwm*(1-np.exp(-SSi/T1tmp))\n",
    "\n",
    "FA1=FAt1*B1tmp/100;cosFA1=np.cos(np.deg2rad(FA1));sinFA1=np.sin(np.deg2rad(FA1))\n",
    "FA2=FAt2*B1tmp/100;cosFA2=np.cos(np.deg2rad(FA2));sinFA2=np.sin(np.deg2rad(FA2))\n",
    "\n",
    "# Initialisation\n",
    "M=np.ones((1,len(T)))*np.nan\n",
    "M[0,0]=Mwm0\n",
    "\n",
    "# 5 shots to be in steady-state:\n",
    "# three generally suficient for most B1/T1 combination but 5 necessary for LUT\n",
    "for shot in range(5):\n",
    "    # Inversion first: taking into account efficiency and timing of the pulse (12ms)\n",
    "    M[0,1]=cosFB*M[0,0]\n",
    "    M[0,120]=M[0,1]\n",
    "    # relaxation before acquisition\n",
    "    M[0,TI0_10-1]=Mwm+(M[0,120]-Mwm)*np.exp(-(float(TI0_10-1-120)/10.)/T1tmp)\n",
    "\n",
    "    i=TI0_10\n",
    "    while i <= TI1_10:\n",
    "        if RF[i]:\n",
    "            M[0,i]=Mwm+(cosFA1*M[0,i-1]-Mwm)*expmT1 # Every RF pulses\n",
    "            i+=1\n",
    "        else:\n",
    "            M[0,i+TR9-1]=Mwm+(M[0,i-1]-Mwm)*expTRT1\n",
    "            i+=TR9\n",
    "\n",
    "    # Signal in image 1\n",
    "    INV1=sinFA1*M[0,TI1_10-1]\n",
    "    print(INV1)\n",
    "\n",
    "    i=TI1_10\n",
    "    while i <= TI2_10:\n",
    "        if RF[i]:\n",
    "            M[0,i]=Mwm+(cosFA1*M[0,i-1]-Mwm)*expmT1 # Every RF pulses\n",
    "            i+=1\n",
    "        else:\n",
    "            M[0,i+TR9-1]=Mwm+(M[0,i-1]-Mwm)*expTRT1\n",
    "            i+=TR9  \n",
    "\n",
    "    # relaxation between the two acquisition\n",
    "    M[0,TI3_10-1]=Mwm+(M[0,TI2_10-1]-Mwm)*np.exp(-float(TI3_10-1-TI2_10)/10./T1tmp)\n",
    "\n",
    "    i=TI3_10\n",
    "    while i <= TI4_10:\n",
    "        if RF[i]:\n",
    "            M[0,i]=Mwm+(cosFA2*M[0,i-1]-Mwm)*expmT1 # Every RF pulses\n",
    "            i+=1\n",
    "        else:\n",
    "            M[0,i+TR9-1]=Mwm+(M[0,i-1]-Mwm)*expTRT1\n",
    "            i+=TR9\n",
    "\n",
    "    # Signal in image 2\n",
    "    INV2=sinFA2*M[0,TI4_10-1] \n",
    "    print(INV2)\n",
    "\n",
    "    i=TI4_10\n",
    "    while i <= TI5_10:\n",
    "        if RF[i]:\n",
    "            M[0,i]=Mwm+(cosFA2*M[0,i-1]-Mwm)*expmT1 # Every RF pulses\n",
    "            i+=1\n",
    "        else:\n",
    "            M[0,i+TR9-1]=Mwm+(M[0,i-1]-Mwm)*expTRT1\n",
    "            i+=TR9\n",
    "\n",
    "    # relaxation after the second acquisition\n",
    "    M[0,SSi10-1]=Mwm+(M[0,TI5_10-1]-Mwm)*np.exp(-(float(SSi10-1-TI5_10)/10.)/T1tmp)    \n",
    "\n",
    "    # Reassignment of magnetisation for the start of the next shot\n",
    "    M[0,0]=M[0,SSi10-1]\n",
    "\n",
    "    \n",
    "fig2, ax2 = plt.subplots()\n",
    "ax2.plot(T0[0:SSi10:10],M[0,0:SSi10:10],'ro')\n",
    "ax2.set_title('Signal plot')\n",
    "ax2.set_xlabel('Time (ms)')\n",
    "ax2.set_ylabel('Mz (AU)')\n",
    "ax2.set_xlim(0,SSi)\n",
    "ax2.grid(True)\n",
    "\n",
    "\n",
    "# Calculating PSIR & MP2RAGE signals\n",
    "PSIR = INV1/(abs(INV1)+abs(INV2))\n",
    "MP2RAGE = INV1*INV2/(INV1**2+INV2**2)\n"
   ]
  },
  {
   "cell_type": "code",
   "execution_count": 4,
   "metadata": {},
   "outputs": [
    {
     "name": "stdout",
     "output_type": "stream",
     "text": [
      "0.0767964961442332\n",
      "0.08261313809703981\n"
     ]
    }
   ],
   "source": [
    "print(PSIR)\n",
    "print(MP2RAGE)"
   ]
  },
  {
   "cell_type": "code",
   "execution_count": null,
   "metadata": {},
   "outputs": [],
   "source": []
  }
 ],
 "metadata": {
  "interpreter": {
   "hash": "8b5c523b174f43ffc76478f804fb6bfd8d958e4fc6d47cb08fe056fae02522cc"
  },
  "kernelspec": {
   "display_name": "Python 3 (ipykernel)",
   "language": "python",
   "name": "python3"
  },
  "language_info": {
   "codemirror_mode": {
    "name": "ipython",
    "version": 3
   },
   "file_extension": ".py",
   "mimetype": "text/x-python",
   "name": "python",
   "nbconvert_exporter": "python",
   "pygments_lexer": "ipython3",
   "version": "3.9.7"
  }
 },
 "nbformat": 4,
 "nbformat_minor": 2
}
