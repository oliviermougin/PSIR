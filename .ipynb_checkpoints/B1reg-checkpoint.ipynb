{
 "cells": [
  {
   "cell_type": "code",
   "execution_count": null,
   "id": "82cb0d10",
   "metadata": {},
   "outputs": [],
   "source": [
    "# see https://nilearn.github.io/stable/introduction.html#installation to install nilearn\n",
    "from nilearn import image\n",
    "\n",
    "suffix='nii'\n",
    "imgm1=nib.load('DICOM_PSIR_UK7T_0.7mm_BestNPI_20230314100502_501_t732'+suffix)\n",
    "\n",
    "sub_B1='DICOM_B1_map_Dual_TR-CHECK_20230314100502_601'\n",
    "sub_dir_B1=os.path.join(in_dir,sub_B1)\n",
    "imgmb1=nib.load(sub_dir_B1+'_e1'+suffix)\n",
    "imgb1=nib.load(sub_dir_B1+'_e2'+suffix)\n",
    "\n",
    "# %% Getting B1 map and Look-Up-Table to generate the T1maps\n",
    "B1avail=True\n",
    "if B1avail:     \n",
    "     ## No registration required: assuming the scanner space in the header is correct, ie little motion between the two scans\n",
    "     print(imgm1.affine)\n",
    "     print(imgmb1.affine)     \n",
    "     imgb1r=image.resample_to_img(imgb1,imgm1,interpolation='linear')\n",
    "    # to filename depends on spm version! \n",
    "     imgb1r.to_filename(sub_dir_B1+'_B1r.img')#.nii.gz\n",
    "     B1map = np.squeeze(imgb1r.get_fdata())\n",
    "else:\n",
    "     #assume perfect B1: not great particularly in the temporal lobes but will output a T1map\n",
    "     B1map = 100*np.ones_like(PSIR)"
   ]
  }
 ],
 "metadata": {
  "kernelspec": {
   "display_name": "Python 3 (ipykernel)",
   "language": "python",
   "name": "python3"
  },
  "language_info": {
   "codemirror_mode": {
    "name": "ipython",
    "version": 3
   },
   "file_extension": ".py",
   "mimetype": "text/x-python",
   "name": "python",
   "nbconvert_exporter": "python",
   "pygments_lexer": "ipython3",
   "version": "3.9.7"
  }
 },
 "nbformat": 4,
 "nbformat_minor": 5
}
