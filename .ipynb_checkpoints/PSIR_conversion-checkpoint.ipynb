{
 "cells": [
  {
   "cell_type": "code",
   "execution_count": 1,
   "metadata": {},
   "outputs": [],
   "source": [
    "import os\n",
    "import numpy as np\n",
    "import sys\n",
    "import nibabel as nib\n",
    "import matplotlib.pyplot as plt"
   ]
  },
  {
   "cell_type": "code",
   "execution_count": 2,
   "metadata": {},
   "outputs": [],
   "source": [
    "def show_slices(slices,clims=[0.0,0.0]):\n",
    "    \"\"\" Function to display row of image slices \"\"\"\n",
    "    fig, axes = plt.subplots(1,len(slices))\n",
    "    for i, slice in enumerate(slices):\n",
    "        if clims==[0.0,0.0]:\n",
    "            axes[i].imshow(slice.T, cmap='gray', origin=\"lower\")\n",
    "        else:\n",
    "            axes[i].imshow(slice.T, cmap='gray', origin=\"lower\", clim=clims)\n",
    "            \n",
    "def maxk(A,k):\n",
    "    B=np.sort(np.ndarray.flatten(A))\n",
    "    t=size(B)\n",
    "    y=B[t-k+1:]\n",
    "    return y\n",
    "\n",
    "def size(A):\n",
    "    sizei = 1\n",
    "    for dim in np.shape(A): sizei *= dim\n",
    "    return sizei\n"
   ]
  },
  {
   "cell_type": "code",
   "execution_count": 3,
   "metadata": {},
   "outputs": [
    {
     "name": "stdout",
     "output_type": "stream",
     "text": [
      "Number of arguments: 3 arguments.\n",
      "Argument List: ['-f', 'C:\\\\Users\\\\ppzom1\\\\AppData\\\\Roaming\\\\jupyter\\\\runtime\\\\kernel-7bfe1ecc-023d-47b1-81d8-00a2e15e22d4.json']\n",
      "You are on the notebook, please check below the ID, directory and suffix of images provided.\n",
      "C:\\Users\\ppzom1\\OneDrive - The University of Nottingham\\Documents\\Code\\PSIR\n"
     ]
    }
   ],
   "source": [
    "print('Number of arguments:', len(sys.argv), 'arguments.')\n",
    "a=sys.argv[1:]\n",
    "print('Argument List:', a)\n",
    "\n",
    "if not a:\n",
    "    print('Please provide arguments for the python script:')\n",
    "    print('    first argument: directory where the data is stored')\n",
    "    print('    second argument: subject ID of the patient (prefix of the image name, including the scan number)')\n",
    "    print('                     (for example Subject_01_PSIR_6_1 )')\n",
    "    print('    third argument: suffix of the image (either .img, .nii or .nii.gz)')\n",
    "    print('    fourth argument: reconstruction software (either ptoa or dcm2niix)')\n",
    "    print('')\n",
    "    print('N.B.: Please check that there is no full stop (.) inside the file name.')\n",
    "    sys.exit()\n",
    "elif a[0]=='-f' or a[0]=='--ip=127.0.0.1':\n",
    "    print('You are on the notebook, please check below the ID, directory and suffix of images provided.')\n",
    "    #in_dir='C:\\\\Users\\\\ppzom1\\\\Downloads\\\\OneDrive_1_17-06-2021'\n",
    "    #in_dir='C:\\\\Users\\\\ppzom1\\\\Documents\\\\data\\\\7T'\n",
    "    #sub_ID='7T_PSIR_0.55mmPitts_20220208163931_6'\n",
    "    # C:\\Users\\ppzom1\\OneDrive - The University of Nottingham\\Documents\\data\\7T\\IRL_29\n",
    "    in_dir='C:\\\\Users\\\\ppzom1\\\\OneDrive - The University of Nottingham\\\\Documents\\\\data\\\\7T\\\\IRL\\\\baseline_IRL_001'\n",
    "    sub_ID='baseline_IRL_001_WIPPSIRSENSE_20140204152831_6_1'\n",
    "    acq='Notts' \n",
    "    sub_dir=in_dir+'\\\\'+sub_ID\n",
    "    suffix='.nii'\n",
    "    recon='dcm2niix'\n",
    "    resol='0p6mm'\n",
    "    show_data=True\n",
    "else:\n",
    "    in_dir=a[0]\n",
    "    sub_ID=a[1]\n",
    "    suffix=a[2]\n",
    "    recon=a[3]\n",
    "    resol=a[4]\n",
    "    sub_dir=in_dir+'/'+sub_ID\n",
    "    show_data=True\n",
    "\n",
    "\n",
    "print(os.getcwd())\n",
    "out_dir = os.path.join(in_dir)\n",
    "\n",
    "### Need to remove the . in filenames otherwise conflicts!!! such as this\n",
    "#EPI_AK_06_WIP_PSIR_UK7T_0.7mm_BestNPI_SENSE_5_1_modulus_cphase00\n",
    "\n",
    "#sub_ID='MEPFM_Sub15_WIP_MP2RAGE_8_1'\n",
    "#sub_dir=in_dir+'/'+sub_ID\n",
    "#suffix='.img'"
   ]
  },
  {
   "cell_type": "code",
   "execution_count": 4,
   "metadata": {},
   "outputs": [
    {
     "ename": "FileNotFoundError",
     "evalue": "No such file or no access: 'C:\\Users\\ppzom1\\OneDrive - The University of Nottingham\\Documents\\data\\7T\\IRL\\baseline_IRL_001\\_1_t787.nii'",
     "output_type": "error",
     "traceback": [
      "\u001b[1;31m---------------------------------------------------------------------------\u001b[0m",
      "\u001b[1;31mFileNotFoundError\u001b[0m                         Traceback (most recent call last)",
      "\u001b[1;32m~\\Anaconda3\\envs\\nmedia\\lib\\site-packages\\nibabel\\loadsave.py\u001b[0m in \u001b[0;36mload\u001b[1;34m(filename, **kwargs)\u001b[0m\n\u001b[0;32m     89\u001b[0m     \u001b[1;32mtry\u001b[0m\u001b[1;33m:\u001b[0m\u001b[1;33m\u001b[0m\u001b[1;33m\u001b[0m\u001b[0m\n\u001b[1;32m---> 90\u001b[1;33m         \u001b[0mstat_result\u001b[0m \u001b[1;33m=\u001b[0m \u001b[0mos\u001b[0m\u001b[1;33m.\u001b[0m\u001b[0mstat\u001b[0m\u001b[1;33m(\u001b[0m\u001b[0mfilename\u001b[0m\u001b[1;33m)\u001b[0m\u001b[1;33m\u001b[0m\u001b[1;33m\u001b[0m\u001b[0m\n\u001b[0m\u001b[0;32m     91\u001b[0m     \u001b[1;32mexcept\u001b[0m \u001b[0mOSError\u001b[0m\u001b[1;33m:\u001b[0m\u001b[1;33m\u001b[0m\u001b[1;33m\u001b[0m\u001b[0m\n",
      "\u001b[1;31mFileNotFoundError\u001b[0m: [WinError 2] The system cannot find the file specified: 'C:\\\\Users\\\\ppzom1\\\\OneDrive - The University of Nottingham\\\\Documents\\\\data\\\\7T\\\\IRL\\\\baseline_IRL_001\\\\_1_t787.nii'",
      "\nDuring handling of the above exception, another exception occurred:\n",
      "\u001b[1;31mFileNotFoundError\u001b[0m                         Traceback (most recent call last)",
      "\u001b[1;32m~\\AppData\\Local\\Temp\\ipykernel_16080\\2510331982.py\u001b[0m in \u001b[0;36m<module>\u001b[1;34m\u001b[0m\n\u001b[0;32m      6\u001b[0m \u001b[1;32melif\u001b[0m \u001b[0mrecon\u001b[0m \u001b[1;33m==\u001b[0m \u001b[1;34m'dcm2niix'\u001b[0m\u001b[1;33m:\u001b[0m\u001b[1;33m\u001b[0m\u001b[1;33m\u001b[0m\u001b[0m\n\u001b[0;32m      7\u001b[0m     \u001b[1;32mif\u001b[0m \u001b[0mresol\u001b[0m \u001b[1;33m==\u001b[0m \u001b[1;34m'0p6mm'\u001b[0m\u001b[1;33m:\u001b[0m\u001b[1;33m\u001b[0m\u001b[1;33m\u001b[0m\u001b[0m\n\u001b[1;32m----> 8\u001b[1;33m         \u001b[0mimgm1\u001b[0m\u001b[1;33m=\u001b[0m\u001b[0mnib\u001b[0m\u001b[1;33m.\u001b[0m\u001b[0mload\u001b[0m\u001b[1;33m(\u001b[0m\u001b[0msub_dir\u001b[0m\u001b[1;33m+\u001b[0m\u001b[1;34m'_t787'\u001b[0m\u001b[1;33m+\u001b[0m\u001b[0msuffix\u001b[0m\u001b[1;33m)\u001b[0m\u001b[1;33m\u001b[0m\u001b[1;33m\u001b[0m\u001b[0m\n\u001b[0m\u001b[0;32m      9\u001b[0m         \u001b[0mimgm2\u001b[0m\u001b[1;33m=\u001b[0m\u001b[0mnib\u001b[0m\u001b[1;33m.\u001b[0m\u001b[0mload\u001b[0m\u001b[1;33m(\u001b[0m\u001b[0msub_dir\u001b[0m\u001b[1;33m+\u001b[0m\u001b[1;34m'_t2387'\u001b[0m\u001b[1;33m+\u001b[0m\u001b[0msuffix\u001b[0m\u001b[1;33m)\u001b[0m\u001b[1;33m\u001b[0m\u001b[1;33m\u001b[0m\u001b[0m\n\u001b[0;32m     10\u001b[0m         \u001b[0mimgp1\u001b[0m\u001b[1;33m=\u001b[0m\u001b[0mnib\u001b[0m\u001b[1;33m.\u001b[0m\u001b[0mload\u001b[0m\u001b[1;33m(\u001b[0m\u001b[0msub_dir\u001b[0m\u001b[1;33m+\u001b[0m\u001b[1;34m'_ph_t787'\u001b[0m\u001b[1;33m+\u001b[0m\u001b[0msuffix\u001b[0m\u001b[1;33m)\u001b[0m\u001b[1;33m\u001b[0m\u001b[1;33m\u001b[0m\u001b[0m\n",
      "\u001b[1;32m~\\Anaconda3\\envs\\nmedia\\lib\\site-packages\\nibabel\\loadsave.py\u001b[0m in \u001b[0;36mload\u001b[1;34m(filename, **kwargs)\u001b[0m\n\u001b[0;32m     90\u001b[0m         \u001b[0mstat_result\u001b[0m \u001b[1;33m=\u001b[0m \u001b[0mos\u001b[0m\u001b[1;33m.\u001b[0m\u001b[0mstat\u001b[0m\u001b[1;33m(\u001b[0m\u001b[0mfilename\u001b[0m\u001b[1;33m)\u001b[0m\u001b[1;33m\u001b[0m\u001b[1;33m\u001b[0m\u001b[0m\n\u001b[0;32m     91\u001b[0m     \u001b[1;32mexcept\u001b[0m \u001b[0mOSError\u001b[0m\u001b[1;33m:\u001b[0m\u001b[1;33m\u001b[0m\u001b[1;33m\u001b[0m\u001b[0m\n\u001b[1;32m---> 92\u001b[1;33m         \u001b[1;32mraise\u001b[0m \u001b[0mFileNotFoundError\u001b[0m\u001b[1;33m(\u001b[0m\u001b[1;34mf\"No such file or no access: '{filename}'\"\u001b[0m\u001b[1;33m)\u001b[0m\u001b[1;33m\u001b[0m\u001b[1;33m\u001b[0m\u001b[0m\n\u001b[0m\u001b[0;32m     93\u001b[0m     \u001b[1;32mif\u001b[0m \u001b[0mstat_result\u001b[0m\u001b[1;33m.\u001b[0m\u001b[0mst_size\u001b[0m \u001b[1;33m<=\u001b[0m \u001b[1;36m0\u001b[0m\u001b[1;33m:\u001b[0m\u001b[1;33m\u001b[0m\u001b[1;33m\u001b[0m\u001b[0m\n\u001b[0;32m     94\u001b[0m         \u001b[1;32mraise\u001b[0m \u001b[0mImageFileError\u001b[0m\u001b[1;33m(\u001b[0m\u001b[1;34mf\"Empty file: '{filename}'\"\u001b[0m\u001b[1;33m)\u001b[0m\u001b[1;33m\u001b[0m\u001b[1;33m\u001b[0m\u001b[0m\n",
      "\u001b[1;31mFileNotFoundError\u001b[0m: No such file or no access: 'C:\\Users\\ppzom1\\OneDrive - The University of Nottingham\\Documents\\data\\7T\\IRL\\baseline_IRL_001\\_1_t787.nii'"
     ]
    }
   ],
   "source": [
    "if recon == 'ptoa':\n",
    "    imgm1=nib.load(sub_dir+'_modulus_cphase00'+suffix)\n",
    "    imgm2=nib.load(sub_dir+'_modulus_cphase01'+suffix)\n",
    "    imgp1=nib.load(sub_dir+'_phase_cphase00'+suffix)\n",
    "    imgp2=nib.load(sub_dir+'_phase_cphase01'+suffix)\n",
    "elif recon == 'dcm2niix':\n",
    "    if resol == '0p6mm':\n",
    "        imgm1=nib.load(sub_dir+'_t787'+suffix)\n",
    "        imgm2=nib.load(sub_dir+'_t2387'+suffix)\n",
    "        imgp1=nib.load(sub_dir+'_ph_t787'+suffix)\n",
    "        imgp2=nib.load(sub_dir+'_ph_t2387'+suffix) \n",
    "    elif resol == '0p7mm':\n",
    "        imgm1=nib.load(sub_dir+'_t732'+suffix)\n",
    "        imgm2=nib.load(sub_dir+'_t2157'+suffix)\n",
    "        imgp1=nib.load(sub_dir+'_ph_t732'+suffix)\n",
    "        imgp2=nib.load(sub_dir+'_ph_t2157'+suffix) \n",
    "    elif resol == '0p55mm':\n",
    "        if acq=='Pitts':\n",
    "            imgm1=nib.load(sub_dir+'_t807'+suffix)\n",
    "            imgm2=nib.load(sub_dir+'_t2507'+suffix)\n",
    "            imgp1=nib.load(sub_dir+'_ph_t807'+suffix)\n",
    "            imgp2=nib.load(sub_dir+'_ph_t2507'+suffix)\n",
    "        else:\n",
    "            imgm1=nib.load(sub_dir+'_t807'+suffix)\n",
    "            imgm2=nib.load(sub_dir+'_t2607'+suffix)\n",
    "            imgp1=nib.load(sub_dir+'_ph_t807'+suffix)\n",
    "            imgp2=nib.load(sub_dir+'_ph_t2607'+suffix)\n",
    "\n",
    "    \n",
    "hdr = imgm1.header\n",
    "imgm1_data=np.squeeze(imgm1.get_fdata())\n",
    "imgm2_data=np.squeeze(imgm2.get_fdata())\n",
    "imgp1_data=np.squeeze(imgp1.get_fdata())\n",
    "imgp2_data=np.squeeze(imgp2.get_fdata())\n",
    "\n",
    "if show_data:\n",
    "    midslice=int(imgm1_data.shape[2]/2)\n",
    "    midy=int(imgm1_data.shape[1]/2)\n",
    "    midx=int(imgm1_data.shape[0]/2)\n",
    "    show_slices([np.abs(imgm1_data[:,:,midslice]),\n",
    "                 np.abs(imgm2_data[:,:,midslice])])"
   ]
  },
  {
   "cell_type": "code",
   "execution_count": null,
   "metadata": {},
   "outputs": [],
   "source": [
    "# Phase in radian and four volumes to deal with:\n",
    "\n",
    "S1 = np.multiply(imgm1_data,np.exp(1j*imgp1_data))\n",
    "S2 = np.multiply(imgm2_data,np.exp(1j*imgp2_data))\n",
    "\n",
    "\n",
    "if show_data:\n",
    "    show_slices([np.real(S1[:,:,midslice]),\n",
    "                 np.imag(S1[:,:,midslice])])\n",
    "\n",
    "Real_img = nib.nifti1.Nifti1Image(np.real(S2), None, header=imgm1.header)\n",
    "Real_img.set_data_dtype(np.float32)\n",
    "Real_img.to_filename(sub_dir+'_Real.nii.gz') \n",
    "\n",
    "Imag_img = nib.nifti1.Nifti1Image(np.imag(S2), None, header=imgm1.header)\n",
    "Imag_img.set_data_dtype(np.float32)\n",
    "Imag_img.to_filename(sub_dir+'_Imag.nii.gz') \n",
    "    "
   ]
  },
  {
   "cell_type": "code",
   "execution_count": null,
   "metadata": {},
   "outputs": [],
   "source": [
    "T1w=np.real(np.multiply(np.conj(S1),S2));\n",
    "f=np.sign(T1w)\n",
    "S1m=np.multiply(np.abs(S1),f)\n",
    "S0=(np.abs(S1m)+np.abs(S2))\n",
    "\n",
    "\n",
    "if show_data:\n",
    "    show_slices([S1m[:,:,midslice],S1m[:,midy,:],S1m[midx,:,:]])\n",
    "    show_slices([S0[:,:,midslice],S0[:,midy,:],S0[midx,:,:]])   \n"
   ]
  },
  {
   "cell_type": "code",
   "execution_count": null,
   "metadata": {},
   "outputs": [],
   "source": [
    "PSIR=np.divide(S1m,S0,out=np.zeros_like(S1m), where=(S0!=0))\n",
    "  \n",
    "mask=(S0>0)\n",
    "PSIR=np.multiply(PSIR,mask)\n",
    "mask=(PSIR<-2)\n",
    "np.put(PSIR,mask,-2)\n",
    "mask=(PSIR>2)\n",
    "np.put(PSIR,mask,2)\n",
    "\n",
    "PSIR_img = nib.nifti1.Nifti1Image(PSIR, None, header=imgm1.header)\n",
    "PSIR_img.set_data_dtype(np.float32)\n",
    "PSIR_img.to_filename(sub_dir+'_PSIR.nii.gz')\n",
    "\n",
    "\n",
    "if show_data:\n",
    "    show_slices([PSIR[:,:,midslice],PSIR[:,midy,:],PSIR[midx,:,:]],[-0.5,0.5])\n",
    "    "
   ]
  },
  {
   "cell_type": "code",
   "execution_count": null,
   "metadata": {},
   "outputs": [],
   "source": [
    "MP2RAGEn=np.real(np.multiply(np.conj(S1),S2))\n",
    "MP2RAGEd=np.square(np.abs(S1))+np.square(np.abs(S2))\n",
    "MP2RAGE=np.divide(MP2RAGEn,MP2RAGEd,out=np.zeros_like(MP2RAGEn), where=(MP2RAGEd!=0))\n",
    "\n",
    "MP2RAGE_img = nib.nifti1.Nifti1Image(MP2RAGE, None, header=imgm1.header)\n",
    "MP2RAGE_img.set_data_dtype(np.float32)\n",
    "MP2RAGE_img.to_filename(sub_dir+'_MP2RAGE.nii.gz')\n",
    "\n",
    "if show_data:\n",
    "    show_slices([(MP2RAGE[:,:,midslice]),(MP2RAGE[:,midy,:]),(MP2RAGE[midx,:,:])],[-0.5,0.5])\n"
   ]
  },
  {
   "cell_type": "code",
   "execution_count": null,
   "metadata": {},
   "outputs": [],
   "source": [
    "\n",
    "aa=1\n",
    "beta=aa*np.min(maxk(np.abs(S2),round(size(S2)/100)))\n",
    "beta2=aa*np.min(maxk(np.abs(MP2RAGEd),round(size(MP2RAGEd)/100)))\n",
    "# print(str(beta)+' as well as '+str(beta2))\n",
    "\n",
    "PSIRbeta=(np.divide(S1m-beta,S0+beta,out=np.zeros_like(S1m), where=(S0+beta!=0))+1)*200\n",
    "MP2RAGEbeta=(np.divide(MP2RAGEn-beta2,MP2RAGEd+2*beta2,out=np.zeros_like(MP2RAGEn), where=(MP2RAGEd+2*beta2!=0))+0.5)*400\n",
    "\n",
    "PSIRbeta_img = nib.nifti1.Nifti1Image(PSIRbeta, None, header=imgm1.header)\n",
    "PSIRbeta_img.set_data_dtype(np.float32)\n",
    "PSIRbeta_img.to_filename(sub_dir+'_PSIRbeta.nii.gz')\n",
    "MP2RAGEbeta_img = nib.nifti1.Nifti1Image(MP2RAGEbeta, None, header=imgm1.header)\n",
    "MP2RAGEbeta_img.set_data_dtype(np.float32)\n",
    "MP2RAGEbeta_img.to_filename(sub_dir+'_MP2RAGEbeta.nii.gz')\n",
    "\n",
    "\n",
    "if show_data:\n",
    "    show_slices([(PSIRbeta[:,:,midslice]),(PSIRbeta[:,midy,:]),(PSIRbeta[midx,:,:])],[0,200])\n",
    "    show_slices([(MP2RAGEbeta[:,:,midslice]),(MP2RAGEbeta[:,midy,:]),(MP2RAGEbeta[midx,:,:])],[0,200]) \n",
    "    "
   ]
  },
  {
   "cell_type": "code",
   "execution_count": null,
   "metadata": {},
   "outputs": [],
   "source": [
    "TI2_PSIR=np.multiply(PSIR+1,abs(S2))\n",
    "if show_data:\n",
    "    show_slices([(TI2_PSIR[:,:,midslice]),(TI2_PSIR[:,midy,:]),(TI2_PSIR[midx,:,:])])\n",
    "\n",
    "TI2_PSIR_img = nib.nifti1.Nifti1Image(TI2_PSIR, None, header=imgm1.header)\n",
    "TI2_PSIR_img.set_data_dtype(np.float32)\n",
    "TI2_PSIR_img.to_filename(sub_dir+'_TI2_PSIR.nii.gz')\n",
    "\n"
   ]
  },
  {
   "cell_type": "code",
   "execution_count": null,
   "metadata": {},
   "outputs": [],
   "source": []
  }
 ],
 "metadata": {
  "interpreter": {
   "hash": "8b5c523b174f43ffc76478f804fb6bfd8d958e4fc6d47cb08fe056fae02522cc"
  },
  "kernelspec": {
   "display_name": "Python 3 (ipykernel)",
   "language": "python",
   "name": "python3"
  },
  "language_info": {
   "codemirror_mode": {
    "name": "ipython",
    "version": 3
   },
   "file_extension": ".py",
   "mimetype": "text/x-python",
   "name": "python",
   "nbconvert_exporter": "python",
   "pygments_lexer": "ipython3",
   "version": "3.7.16"
  }
 },
 "nbformat": 4,
 "nbformat_minor": 2
}
